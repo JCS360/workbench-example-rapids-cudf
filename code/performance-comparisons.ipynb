{
 "cells": [
  {
   "cell_type": "markdown",
   "metadata": {},
   "source": [
    "# Performance comparison"
   ]
  },
  {
   "cell_type": "markdown",
   "metadata": {},
   "source": [
    "This notebook compares the performance of `cuDF` and `pandas`. The comparisons performed are on identical data sizes. This notebook primarily showcases the factor of speedups users can have when the similar `pandas` APIs are run on GPUs using `cudf`.\n",
    "\n",
    "This notebook is written to measure performance on NVIDIA GPUs with large memory and was tested with a single A100-40GB (~1 hour to run). If using any hardware with smaller memory and/or compute (eg. laptop, workstation), please consider pushing this project to a machine with heavier hardware to run this notebook. Thankfully, NVIDIA AI Workbench makes this process easy!\n",
    "\n",
    "Alternatively, you may consider lowering the `num_rows` values. \n",
    "\n",
    "**Note**: Performance results may vary by data size, as well as the CPU and GPU used. The hardware details used to run these performance comparisons are at the end of this page."
   ]
  },
  {
   "cell_type": "code",
   "execution_count": 1,
   "metadata": {
    "tags": []
   },
   "outputs": [],
   "source": [
    "import os\n",
    "import time\n",
    "import timeit\n",
    "from io import BytesIO\n",
    "\n",
    "import matplotlib.pyplot as plt\n",
    "import numpy as np\n",
    "import pandas as pd\n",
    "\n",
    "import cudf"
   ]
  },
  {
   "cell_type": "code",
   "execution_count": 2,
   "metadata": {
    "tags": []
   },
   "outputs": [],
   "source": [
    "np.random.seed(0)"
   ]
  },
  {
   "cell_type": "markdown",
   "metadata": {
    "tags": []
   },
   "source": [
    "## Concat, count & joins performance"
   ]
  },
  {
   "cell_type": "code",
   "execution_count": 3,
   "metadata": {
    "tags": []
   },
   "outputs": [
    {
     "data": {
      "text/html": [
       "<div>\n",
       "<style scoped>\n",
       "    .dataframe tbody tr th:only-of-type {\n",
       "        vertical-align: middle;\n",
       "    }\n",
       "\n",
       "    .dataframe tbody tr th {\n",
       "        vertical-align: top;\n",
       "    }\n",
       "\n",
       "    .dataframe thead th {\n",
       "        text-align: right;\n",
       "    }\n",
       "</style>\n",
       "<table border=\"1\" class=\"dataframe\">\n",
       "  <thead>\n",
       "    <tr style=\"text-align: right;\">\n",
       "      <th></th>\n",
       "      <th>numbers</th>\n",
       "      <th>business</th>\n",
       "    </tr>\n",
       "  </thead>\n",
       "  <tbody>\n",
       "    <tr>\n",
       "      <th>0</th>\n",
       "      <td>-316</td>\n",
       "      <td>Buckees</td>\n",
       "    </tr>\n",
       "    <tr>\n",
       "      <th>1</th>\n",
       "      <td>-441</td>\n",
       "      <td>Costco</td>\n",
       "    </tr>\n",
       "    <tr>\n",
       "      <th>2</th>\n",
       "      <td>653</td>\n",
       "      <td>Costco</td>\n",
       "    </tr>\n",
       "    <tr>\n",
       "      <th>3</th>\n",
       "      <td>216</td>\n",
       "      <td>McD</td>\n",
       "    </tr>\n",
       "    <tr>\n",
       "      <th>4</th>\n",
       "      <td>-165</td>\n",
       "      <td>Costco</td>\n",
       "    </tr>\n",
       "    <tr>\n",
       "      <th>...</th>\n",
       "      <td>...</td>\n",
       "      <td>...</td>\n",
       "    </tr>\n",
       "    <tr>\n",
       "      <th>149999995</th>\n",
       "      <td>807</td>\n",
       "      <td>Costco</td>\n",
       "    </tr>\n",
       "    <tr>\n",
       "      <th>149999996</th>\n",
       "      <td>-441</td>\n",
       "      <td>Buckees</td>\n",
       "    </tr>\n",
       "    <tr>\n",
       "      <th>149999997</th>\n",
       "      <td>-377</td>\n",
       "      <td>Costco</td>\n",
       "    </tr>\n",
       "    <tr>\n",
       "      <th>149999998</th>\n",
       "      <td>966</td>\n",
       "      <td>Costco</td>\n",
       "    </tr>\n",
       "    <tr>\n",
       "      <th>149999999</th>\n",
       "      <td>-384</td>\n",
       "      <td>Costco</td>\n",
       "    </tr>\n",
       "  </tbody>\n",
       "</table>\n",
       "<p>150000000 rows × 2 columns</p>\n",
       "</div>"
      ],
      "text/plain": [
       "           numbers business\n",
       "0             -316  Buckees\n",
       "1             -441   Costco\n",
       "2              653   Costco\n",
       "3              216      McD\n",
       "4             -165   Costco\n",
       "...            ...      ...\n",
       "149999995      807   Costco\n",
       "149999996     -441  Buckees\n",
       "149999997     -377   Costco\n",
       "149999998      966   Costco\n",
       "149999999     -384   Costco\n",
       "\n",
       "[150000000 rows x 2 columns]"
      ]
     },
     "execution_count": 3,
     "metadata": {},
     "output_type": "execute_result"
    }
   ],
   "source": [
    "num_rows = 150_000_000\n",
    "pdf = pd.DataFrame(\n",
    "    {\n",
    "        \"numbers\": np.random.randint(-1000, 1000, num_rows, dtype=\"int64\"),\n",
    "        \"business\": np.random.choice(\n",
    "            [\"McD\", \"Buckees\", \"Walmart\", \"Costco\"], size=num_rows\n",
    "        ),\n",
    "    }\n",
    ")\n",
    "pdf"
   ]
  },
  {
   "cell_type": "code",
   "execution_count": 4,
   "metadata": {
    "tags": []
   },
   "outputs": [
    {
     "data": {
      "text/html": [
       "<div>\n",
       "<style scoped>\n",
       "    .dataframe tbody tr th:only-of-type {\n",
       "        vertical-align: middle;\n",
       "    }\n",
       "\n",
       "    .dataframe tbody tr th {\n",
       "        vertical-align: top;\n",
       "    }\n",
       "\n",
       "    .dataframe thead th {\n",
       "        text-align: right;\n",
       "    }\n",
       "</style>\n",
       "<table border=\"1\" class=\"dataframe\">\n",
       "  <thead>\n",
       "    <tr style=\"text-align: right;\">\n",
       "      <th></th>\n",
       "      <th>numbers</th>\n",
       "      <th>business</th>\n",
       "    </tr>\n",
       "  </thead>\n",
       "  <tbody>\n",
       "    <tr>\n",
       "      <th>0</th>\n",
       "      <td>-316</td>\n",
       "      <td>Buckees</td>\n",
       "    </tr>\n",
       "    <tr>\n",
       "      <th>1</th>\n",
       "      <td>-441</td>\n",
       "      <td>Costco</td>\n",
       "    </tr>\n",
       "    <tr>\n",
       "      <th>2</th>\n",
       "      <td>653</td>\n",
       "      <td>Costco</td>\n",
       "    </tr>\n",
       "    <tr>\n",
       "      <th>3</th>\n",
       "      <td>216</td>\n",
       "      <td>McD</td>\n",
       "    </tr>\n",
       "    <tr>\n",
       "      <th>4</th>\n",
       "      <td>-165</td>\n",
       "      <td>Costco</td>\n",
       "    </tr>\n",
       "    <tr>\n",
       "      <th>...</th>\n",
       "      <td>...</td>\n",
       "      <td>...</td>\n",
       "    </tr>\n",
       "    <tr>\n",
       "      <th>149999995</th>\n",
       "      <td>807</td>\n",
       "      <td>Costco</td>\n",
       "    </tr>\n",
       "    <tr>\n",
       "      <th>149999996</th>\n",
       "      <td>-441</td>\n",
       "      <td>Buckees</td>\n",
       "    </tr>\n",
       "    <tr>\n",
       "      <th>149999997</th>\n",
       "      <td>-377</td>\n",
       "      <td>Costco</td>\n",
       "    </tr>\n",
       "    <tr>\n",
       "      <th>149999998</th>\n",
       "      <td>966</td>\n",
       "      <td>Costco</td>\n",
       "    </tr>\n",
       "    <tr>\n",
       "      <th>149999999</th>\n",
       "      <td>-384</td>\n",
       "      <td>Costco</td>\n",
       "    </tr>\n",
       "  </tbody>\n",
       "</table>\n",
       "<p>150000000 rows × 2 columns</p>\n",
       "</div>"
      ],
      "text/plain": [
       "           numbers business\n",
       "0             -316  Buckees\n",
       "1             -441   Costco\n",
       "2              653   Costco\n",
       "3              216      McD\n",
       "4             -165   Costco\n",
       "...            ...      ...\n",
       "149999995      807   Costco\n",
       "149999996     -441  Buckees\n",
       "149999997     -377   Costco\n",
       "149999998      966   Costco\n",
       "149999999     -384   Costco\n",
       "\n",
       "[150000000 rows x 2 columns]"
      ]
     },
     "execution_count": 4,
     "metadata": {},
     "output_type": "execute_result"
    }
   ],
   "source": [
    "gdf = cudf.from_pandas(pdf)\n",
    "gdf"
   ]
  },
  {
   "cell_type": "code",
   "execution_count": 5,
   "metadata": {
    "tags": []
   },
   "outputs": [],
   "source": [
    "def timeit_pandas_cudf(pd_obj, gd_obj, func, **kwargs):\n",
    "    \"\"\"\n",
    "    A utility function to measure execution time of an\n",
    "    API(`func`) in pandas & cudf.\n",
    "\n",
    "    Parameters\n",
    "    ----------\n",
    "    pd_obj : Pandas object\n",
    "    gd_obj : cuDF object\n",
    "    func : callable\n",
    "    \"\"\"\n",
    "    pandas_time = timeit.timeit(lambda: func(pd_obj), **kwargs)\n",
    "    cudf_time = timeit.timeit(lambda: func(gd_obj), **kwargs)\n",
    "    return pandas_time, cudf_time"
   ]
  },
  {
   "cell_type": "code",
   "execution_count": 6,
   "metadata": {
    "tags": []
   },
   "outputs": [],
   "source": [
    "pandas_value_counts, cudf_value_counts = timeit_pandas_cudf(\n",
    "    pdf, gdf, lambda df: df.value_counts(), number=30\n",
    ")"
   ]
  },
  {
   "cell_type": "code",
   "execution_count": 7,
   "metadata": {
    "tags": []
   },
   "outputs": [],
   "source": [
    "pdf = pdf.head(50_000_000)\n",
    "gdf = gdf.head(50_000_000)"
   ]
  },
  {
   "cell_type": "code",
   "execution_count": 8,
   "metadata": {
    "tags": []
   },
   "outputs": [],
   "source": [
    "pandas_concat = timeit.timeit(lambda: pd.concat([pdf, pdf, pdf]), number=30)"
   ]
  },
  {
   "cell_type": "code",
   "execution_count": 9,
   "metadata": {
    "tags": []
   },
   "outputs": [],
   "source": [
    "cudf_concat = timeit.timeit(lambda: cudf.concat([gdf, gdf, gdf]), number=30)"
   ]
  },
  {
   "cell_type": "code",
   "execution_count": 10,
   "metadata": {
    "tags": []
   },
   "outputs": [],
   "source": [
    "pandas_groupby, cudf_groupby = timeit_pandas_cudf(\n",
    "    pdf,\n",
    "    gdf,\n",
    "    lambda df: df.groupby(\"business\").agg([\"min\", \"max\", \"mean\"]),\n",
    "    number=30,\n",
    ")"
   ]
  },
  {
   "cell_type": "code",
   "execution_count": 11,
   "metadata": {
    "tags": []
   },
   "outputs": [],
   "source": [
    "num_rows = 500_000\n",
    "pdf = pd.DataFrame(\n",
    "    {\n",
    "        \"numbers\": np.random.randint(-1000, 1000, num_rows, dtype=\"int64\"),\n",
    "        \"business\": np.random.choice(\n",
    "            [\"McD\", \"Buckees\", \"Walmart\", \"Costco\"], size=num_rows\n",
    "        ),\n",
    "    }\n",
    ")\n",
    "gdf = cudf.from_pandas(pdf)"
   ]
  },
  {
   "cell_type": "code",
   "execution_count": 12,
   "metadata": {
    "tags": []
   },
   "outputs": [],
   "source": [
    "pandas_merge, cudf_merge = timeit_pandas_cudf(\n",
    "    pdf, gdf, lambda df: df.merge(df), number=30\n",
    ")"
   ]
  },
  {
   "cell_type": "code",
   "execution_count": 13,
   "metadata": {
    "tags": []
   },
   "outputs": [],
   "source": [
    "performance_df = pd.DataFrame(\n",
    "    {\n",
    "        \"cudf speedup vs. pandas\": [\n",
    "            pandas_value_counts / cudf_value_counts,\n",
    "            pandas_concat / cudf_concat,\n",
    "            pandas_groupby / cudf_groupby,\n",
    "            pandas_merge / cudf_merge,\n",
    "        ],\n",
    "    },\n",
    "    index=[\"value_counts\", \"concat\", \"groupby\", \"merge\"],\n",
    ")"
   ]
  },
  {
   "cell_type": "code",
   "execution_count": 14,
   "metadata": {
    "tags": []
   },
   "outputs": [
    {
     "data": {
      "text/html": [
       "<div>\n",
       "<style scoped>\n",
       "    .dataframe tbody tr th:only-of-type {\n",
       "        vertical-align: middle;\n",
       "    }\n",
       "\n",
       "    .dataframe tbody tr th {\n",
       "        vertical-align: top;\n",
       "    }\n",
       "\n",
       "    .dataframe thead th {\n",
       "        text-align: right;\n",
       "    }\n",
       "</style>\n",
       "<table border=\"1\" class=\"dataframe\">\n",
       "  <thead>\n",
       "    <tr style=\"text-align: right;\">\n",
       "      <th></th>\n",
       "      <th>cudf speedup vs. pandas</th>\n",
       "    </tr>\n",
       "  </thead>\n",
       "  <tbody>\n",
       "    <tr>\n",
       "      <th>value_counts</th>\n",
       "      <td>98.795870</td>\n",
       "    </tr>\n",
       "    <tr>\n",
       "      <th>concat</th>\n",
       "      <td>40.988709</td>\n",
       "    </tr>\n",
       "    <tr>\n",
       "      <th>groupby</th>\n",
       "      <td>89.501697</td>\n",
       "    </tr>\n",
       "    <tr>\n",
       "      <th>merge</th>\n",
       "      <td>52.585589</td>\n",
       "    </tr>\n",
       "  </tbody>\n",
       "</table>\n",
       "</div>"
      ],
      "text/plain": [
       "              cudf speedup vs. pandas\n",
       "value_counts                98.795870\n",
       "concat                      40.988709\n",
       "groupby                     89.501697\n",
       "merge                       52.585589"
      ]
     },
     "execution_count": 14,
     "metadata": {},
     "output_type": "execute_result"
    }
   ],
   "source": [
    "performance_df"
   ]
  },
  {
   "cell_type": "code",
   "execution_count": 15,
   "metadata": {
    "tags": []
   },
   "outputs": [
    {
     "data": {
      "image/png": "[encoded data removed]",
      "text/plain": [
       "<Figure size 640x480 with 1 Axes>"
      ]
     },
     "metadata": {},
     "output_type": "display_data"
    }
   ],
   "source": [
    "ax = performance_df.plot.bar(\n",
    "    color=\"#7400ff\",\n",
    "    ylim=(1, 150),\n",
    "    rot=0,\n",
    "    xlabel=\"Operation\",\n",
    "    ylabel=\"Speedup factor\",\n",
    ")\n",
    "ax.bar_label(ax.containers[0], fmt=\"%.0f\")\n",
    "plt.show()"
   ]
  },
  {
   "cell_type": "code",
   "execution_count": 16,
   "metadata": {
    "tags": []
   },
   "outputs": [],
   "source": [
    "# Cleaning up used memory for later benchmarks\n",
    "del pdf\n",
    "del gdf\n",
    "import gc\n",
    "\n",
    "_ = gc.collect()"
   ]
  },
  {
   "cell_type": "markdown",
   "metadata": {},
   "source": [
    "## Strings Performance"
   ]
  },
  {
   "cell_type": "code",
   "execution_count": 17,
   "metadata": {
    "tags": []
   },
   "outputs": [],
   "source": [
    "num_rows = 100_000_000\n",
    "pd_series = pd.Series(\n",
    "    np.random.choice(\n",
    "        [\"123\", \"56.234\", \"Walmart\", \"Costco\", \"rapids ai\"], size=num_rows\n",
    "    )\n",
    ")"
   ]
  },
  {
   "cell_type": "code",
   "execution_count": 18,
   "metadata": {
    "tags": []
   },
   "outputs": [],
   "source": [
    "gd_series = cudf.from_pandas(pd_series)"
   ]
  },
  {
   "cell_type": "code",
   "execution_count": 19,
   "metadata": {
    "tags": []
   },
   "outputs": [],
   "source": [
    "pandas_upper, cudf_upper = timeit_pandas_cudf(\n",
    "    pd_series, gd_series, lambda s: s.str.upper(), number=20\n",
    ")"
   ]
  },
  {
   "cell_type": "code",
   "execution_count": 20,
   "metadata": {
    "tags": []
   },
   "outputs": [],
   "source": [
    "pandas_contains, cudf_contains = timeit_pandas_cudf(\n",
    "    pd_series, gd_series, lambda s: s.str.contains(r\"[0-9][a-z]\"), number=20\n",
    ")"
   ]
  },
  {
   "cell_type": "code",
   "execution_count": 21,
   "metadata": {},
   "outputs": [],
   "source": [
    "pandas_isalpha, cudf_isalpha = timeit_pandas_cudf(\n",
    "    pd_series, gd_series, lambda s: s.str.isalpha(), number=20\n",
    ")"
   ]
  },
  {
   "cell_type": "code",
   "execution_count": 22,
   "metadata": {
    "tags": []
   },
   "outputs": [],
   "source": [
    "performance_df = pd.DataFrame(\n",
    "    {\n",
    "        \"cudf speedup vs. pandas\": [\n",
    "            pandas_upper / cudf_upper,\n",
    "            pandas_contains / cudf_contains,\n",
    "            pandas_isalpha / cudf_isalpha,\n",
    "        ],\n",
    "    },\n",
    "    index=[\"upper\", \"contains\", \"isalpha\"],\n",
    ")"
   ]
  },
  {
   "cell_type": "code",
   "execution_count": 23,
   "metadata": {
    "tags": []
   },
   "outputs": [
    {
     "data": {
      "text/html": [
       "<div>\n",
       "<style scoped>\n",
       "    .dataframe tbody tr th:only-of-type {\n",
       "        vertical-align: middle;\n",
       "    }\n",
       "\n",
       "    .dataframe tbody tr th {\n",
       "        vertical-align: top;\n",
       "    }\n",
       "\n",
       "    .dataframe thead th {\n",
       "        text-align: right;\n",
       "    }\n",
       "</style>\n",
       "<table border=\"1\" class=\"dataframe\">\n",
       "  <thead>\n",
       "    <tr style=\"text-align: right;\">\n",
       "      <th></th>\n",
       "      <th>cudf speedup vs. pandas</th>\n",
       "    </tr>\n",
       "  </thead>\n",
       "  <tbody>\n",
       "    <tr>\n",
       "      <th>upper</th>\n",
       "      <td>1012.916918</td>\n",
       "    </tr>\n",
       "    <tr>\n",
       "      <th>contains</th>\n",
       "      <td>321.727087</td>\n",
       "    </tr>\n",
       "    <tr>\n",
       "      <th>isalpha</th>\n",
       "      <td>3665.660623</td>\n",
       "    </tr>\n",
       "  </tbody>\n",
       "</table>\n",
       "</div>"
      ],
      "text/plain": [
       "          cudf speedup vs. pandas\n",
       "upper                 1012.916918\n",
       "contains               321.727087\n",
       "isalpha               3665.660623"
      ]
     },
     "execution_count": 23,
     "metadata": {},
     "output_type": "execute_result"
    }
   ],
   "source": [
    "performance_df"
   ]
  },
  {
   "cell_type": "code",
   "execution_count": 24,
   "metadata": {
    "tags": []
   },
   "outputs": [
    {
     "data": {
      "image/png": "[encoded data removed]",
      "text/plain": [
       "<Figure size 640x480 with 1 Axes>"
      ]
     },
     "metadata": {},
     "output_type": "display_data"
    }
   ],
   "source": [
    "ax = performance_df.plot.bar(\n",
    "    color=\"#7400ff\",\n",
    "    ylim=(1, 4000),\n",
    "    rot=0,\n",
    "    xlabel=\"String method\",\n",
    "    ylabel=\"Speedup factor\",\n",
    ")\n",
    "ax.bar_label(ax.containers[0], fmt=\"%.0f\")\n",
    "plt.show()"
   ]
  },
  {
   "cell_type": "markdown",
   "metadata": {},
   "source": [
    "## User-defined function (UDF) performance (with JIT overhead)"
   ]
  },
  {
   "cell_type": "markdown",
   "metadata": {},
   "source": [
    "The first UDF runs include JIT compilation overhead, due to which the performance of first run and average of next few runs are compared separately."
   ]
  },
  {
   "cell_type": "code",
   "execution_count": 25,
   "metadata": {
    "tags": []
   },
   "outputs": [
    {
     "data": {
      "text/html": [
       "<div>\n",
       "<style scoped>\n",
       "    .dataframe tbody tr th:only-of-type {\n",
       "        vertical-align: middle;\n",
       "    }\n",
       "\n",
       "    .dataframe tbody tr th {\n",
       "        vertical-align: top;\n",
       "    }\n",
       "\n",
       "    .dataframe thead th {\n",
       "        text-align: right;\n",
       "    }\n",
       "</style>\n",
       "<table border=\"1\" class=\"dataframe\">\n",
       "  <thead>\n",
       "    <tr style=\"text-align: right;\">\n",
       "      <th></th>\n",
       "      <th>age</th>\n",
       "    </tr>\n",
       "  </thead>\n",
       "  <tbody>\n",
       "    <tr>\n",
       "      <th>0</th>\n",
       "      <td>59</td>\n",
       "    </tr>\n",
       "    <tr>\n",
       "      <th>1</th>\n",
       "      <td>20</td>\n",
       "    </tr>\n",
       "    <tr>\n",
       "      <th>2</th>\n",
       "      <td>86</td>\n",
       "    </tr>\n",
       "    <tr>\n",
       "      <th>3</th>\n",
       "      <td>73</td>\n",
       "    </tr>\n",
       "    <tr>\n",
       "      <th>4</th>\n",
       "      <td>6</td>\n",
       "    </tr>\n",
       "    <tr>\n",
       "      <th>...</th>\n",
       "      <td>...</td>\n",
       "    </tr>\n",
       "    <tr>\n",
       "      <th>4999995</th>\n",
       "      <td>18</td>\n",
       "    </tr>\n",
       "    <tr>\n",
       "      <th>4999996</th>\n",
       "      <td>86</td>\n",
       "    </tr>\n",
       "    <tr>\n",
       "      <th>4999997</th>\n",
       "      <td>18</td>\n",
       "    </tr>\n",
       "    <tr>\n",
       "      <th>4999998</th>\n",
       "      <td>7</td>\n",
       "    </tr>\n",
       "    <tr>\n",
       "      <th>4999999</th>\n",
       "      <td>88</td>\n",
       "    </tr>\n",
       "  </tbody>\n",
       "</table>\n",
       "<p>5000000 rows × 1 columns</p>\n",
       "</div>"
      ],
      "text/plain": [
       "         age\n",
       "0         59\n",
       "1         20\n",
       "2         86\n",
       "3         73\n",
       "4          6\n",
       "...      ...\n",
       "4999995   18\n",
       "4999996   86\n",
       "4999997   18\n",
       "4999998    7\n",
       "4999999   88\n",
       "\n",
       "[5000000 rows x 1 columns]"
      ]
     },
     "execution_count": 25,
     "metadata": {},
     "output_type": "execute_result"
    }
   ],
   "source": [
    "num_rows = 5_000_000\n",
    "pdf_age = pd.DataFrame(\n",
    "    {\n",
    "        \"age\": np.random.randint(0, 100, num_rows),\n",
    "    }\n",
    ")\n",
    "pdf_age"
   ]
  },
  {
   "cell_type": "code",
   "execution_count": 26,
   "metadata": {
    "tags": []
   },
   "outputs": [
    {
     "data": {
      "text/html": [
       "<div>\n",
       "<style scoped>\n",
       "    .dataframe tbody tr th:only-of-type {\n",
       "        vertical-align: middle;\n",
       "    }\n",
       "\n",
       "    .dataframe tbody tr th {\n",
       "        vertical-align: top;\n",
       "    }\n",
       "\n",
       "    .dataframe thead th {\n",
       "        text-align: right;\n",
       "    }\n",
       "</style>\n",
       "<table border=\"1\" class=\"dataframe\">\n",
       "  <thead>\n",
       "    <tr style=\"text-align: right;\">\n",
       "      <th></th>\n",
       "      <th>age</th>\n",
       "    </tr>\n",
       "  </thead>\n",
       "  <tbody>\n",
       "    <tr>\n",
       "      <th>0</th>\n",
       "      <td>59</td>\n",
       "    </tr>\n",
       "    <tr>\n",
       "      <th>1</th>\n",
       "      <td>20</td>\n",
       "    </tr>\n",
       "    <tr>\n",
       "      <th>2</th>\n",
       "      <td>86</td>\n",
       "    </tr>\n",
       "    <tr>\n",
       "      <th>3</th>\n",
       "      <td>73</td>\n",
       "    </tr>\n",
       "    <tr>\n",
       "      <th>4</th>\n",
       "      <td>6</td>\n",
       "    </tr>\n",
       "    <tr>\n",
       "      <th>...</th>\n",
       "      <td>...</td>\n",
       "    </tr>\n",
       "    <tr>\n",
       "      <th>4999995</th>\n",
       "      <td>18</td>\n",
       "    </tr>\n",
       "    <tr>\n",
       "      <th>4999996</th>\n",
       "      <td>86</td>\n",
       "    </tr>\n",
       "    <tr>\n",
       "      <th>4999997</th>\n",
       "      <td>18</td>\n",
       "    </tr>\n",
       "    <tr>\n",
       "      <th>4999998</th>\n",
       "      <td>7</td>\n",
       "    </tr>\n",
       "    <tr>\n",
       "      <th>4999999</th>\n",
       "      <td>88</td>\n",
       "    </tr>\n",
       "  </tbody>\n",
       "</table>\n",
       "<p>5000000 rows × 1 columns</p>\n",
       "</div>"
      ],
      "text/plain": [
       "         age\n",
       "0         59\n",
       "1         20\n",
       "2         86\n",
       "3         73\n",
       "4          6\n",
       "...      ...\n",
       "4999995   18\n",
       "4999996   86\n",
       "4999997   18\n",
       "4999998    7\n",
       "4999999   88\n",
       "\n",
       "[5000000 rows x 1 columns]"
      ]
     },
     "execution_count": 26,
     "metadata": {},
     "output_type": "execute_result"
    }
   ],
   "source": [
    "gdf_age = cudf.from_pandas(pdf_age)\n",
    "gdf_age"
   ]
  },
  {
   "cell_type": "code",
   "execution_count": 27,
   "metadata": {
    "tags": []
   },
   "outputs": [],
   "source": [
    "def age_udf(row):\n",
    "    if row[\"age\"] < 18:\n",
    "        return 0\n",
    "    elif 18 <= row[\"age\"] < 20:\n",
    "        return 1\n",
    "    elif 20 <= row[\"age\"] < 30:\n",
    "        return 2\n",
    "    elif 30 <= row[\"age\"] < 40:\n",
    "        return 3\n",
    "    elif 40 <= row[\"age\"] < 50:\n",
    "        return 4\n",
    "    elif 50 <= row[\"age\"] < 60:\n",
    "        return 5\n",
    "    elif 60 <= row[\"age\"] < 70:\n",
    "        return 6\n",
    "    else:\n",
    "        return 7"
   ]
  },
  {
   "cell_type": "code",
   "execution_count": 28,
   "metadata": {},
   "outputs": [],
   "source": [
    "pandas_int_udf, cudf_int_udf = timeit_pandas_cudf(\n",
    "    pdf_age, gdf_age, lambda df: df.apply(age_udf, axis=1), number=1\n",
    ")"
   ]
  },
  {
   "cell_type": "code",
   "execution_count": 29,
   "metadata": {},
   "outputs": [],
   "source": [
    "def str_isupper_udf(row):\n",
    "    if row.isupper():\n",
    "        return 0\n",
    "    else:\n",
    "        return 1"
   ]
  },
  {
   "cell_type": "code",
   "execution_count": 30,
   "metadata": {},
   "outputs": [
    {
     "data": {
      "text/plain": [
       "0                   abc\n",
       "1                    AI\n",
       "2                   ABC\n",
       "3                   abc\n",
       "4                    AI\n",
       "               ...     \n",
       "49999995            ABC\n",
       "49999996            abc\n",
       "49999997    hello world\n",
       "49999998            abc\n",
       "49999999             AI\n",
       "Name: strings, Length: 50000000, dtype: object"
      ]
     },
     "execution_count": 30,
     "metadata": {},
     "output_type": "execute_result"
    }
   ],
   "source": [
    "pd_series = pd.Series(\n",
    "    np.random.choice([\"ABC\", \"abc\", \"hello world\", \"AI\"], size=50_000_000),\n",
    "    name=\"strings\",\n",
    ")\n",
    "pd_series"
   ]
  },
  {
   "cell_type": "code",
   "execution_count": 31,
   "metadata": {},
   "outputs": [
    {
     "data": {
      "text/plain": [
       "0                   abc\n",
       "1                    AI\n",
       "2                   ABC\n",
       "3                   abc\n",
       "4                    AI\n",
       "               ...     \n",
       "49999995            ABC\n",
       "49999996            abc\n",
       "49999997    hello world\n",
       "49999998            abc\n",
       "49999999             AI\n",
       "Name: strings, Length: 50000000, dtype: object"
      ]
     },
     "execution_count": 31,
     "metadata": {},
     "output_type": "execute_result"
    }
   ],
   "source": [
    "gd_series = cudf.from_pandas(pd_series)\n",
    "gd_series"
   ]
  },
  {
   "cell_type": "code",
   "execution_count": 32,
   "metadata": {},
   "outputs": [],
   "source": [
    "pandas_str_udf, cudf_str_udf = timeit_pandas_cudf(\n",
    "    pd_series, gd_series, lambda s: s.apply(str_isupper_udf), number=1\n",
    ")"
   ]
  },
  {
   "cell_type": "code",
   "execution_count": 33,
   "metadata": {
    "tags": []
   },
   "outputs": [
    {
     "data": {
      "text/html": [
       "<div>\n",
       "<style scoped>\n",
       "    .dataframe tbody tr th:only-of-type {\n",
       "        vertical-align: middle;\n",
       "    }\n",
       "\n",
       "    .dataframe tbody tr th {\n",
       "        vertical-align: top;\n",
       "    }\n",
       "\n",
       "    .dataframe thead th {\n",
       "        text-align: right;\n",
       "    }\n",
       "</style>\n",
       "<table border=\"1\" class=\"dataframe\">\n",
       "  <thead>\n",
       "    <tr style=\"text-align: right;\">\n",
       "      <th></th>\n",
       "      <th>cudf speedup vs. pandas</th>\n",
       "    </tr>\n",
       "  </thead>\n",
       "  <tbody>\n",
       "    <tr>\n",
       "      <th>Numeric</th>\n",
       "      <td>153.236482</td>\n",
       "    </tr>\n",
       "    <tr>\n",
       "      <th>String</th>\n",
       "      <td>108.242918</td>\n",
       "    </tr>\n",
       "  </tbody>\n",
       "</table>\n",
       "</div>"
      ],
      "text/plain": [
       "         cudf speedup vs. pandas\n",
       "Numeric               153.236482\n",
       "String                108.242918"
      ]
     },
     "execution_count": 33,
     "metadata": {},
     "output_type": "execute_result"
    }
   ],
   "source": [
    "performance_df = pd.DataFrame(\n",
    "    {\n",
    "        \"cudf speedup vs. pandas\": [\n",
    "            pandas_int_udf / cudf_int_udf,\n",
    "            pandas_str_udf / cudf_str_udf,\n",
    "        ]\n",
    "    },\n",
    "    index=[\"Numeric\", \"String\"],\n",
    ")\n",
    "performance_df"
   ]
  },
  {
   "cell_type": "markdown",
   "metadata": {},
   "source": [
    "Below is the plot showing performance speedup in case of Numeric UDFs & String UDFs on their first runs."
   ]
  },
  {
   "cell_type": "code",
   "execution_count": 34,
   "metadata": {
    "tags": []
   },
   "outputs": [
    {
     "data": {
      "image/png": "[encoded data removed]",
      "text/plain": [
       "<Figure size 640x480 with 1 Axes>"
      ]
     },
     "metadata": {},
     "output_type": "display_data"
    }
   ],
   "source": [
    "ax = performance_df.plot.bar(\n",
    "    color=\"#7400ff\",\n",
    "    ylim=(1, 200),\n",
    "    rot=0,\n",
    "    xlabel=\"UDF Kind\",\n",
    "    ylabel=\"Speedup factor\",\n",
    ")\n",
    "ax.bar_label(ax.containers[0], fmt=\"%.0f\")\n",
    "plt.show()"
   ]
  },
  {
   "cell_type": "markdown",
   "metadata": {},
   "source": [
    "## User-defined function (UDF) performance (without JIT overhead)"
   ]
  },
  {
   "cell_type": "code",
   "execution_count": 35,
   "metadata": {
    "tags": []
   },
   "outputs": [],
   "source": [
    "pandas_int_udf, cudf_int_udf = timeit_pandas_cudf(\n",
    "    pdf_age, gdf_age, lambda df: df.apply(age_udf, axis=1), number=10\n",
    ")"
   ]
  },
  {
   "cell_type": "code",
   "execution_count": 36,
   "metadata": {},
   "outputs": [],
   "source": [
    "pandas_str_udf, cudf_str_udf = timeit_pandas_cudf(\n",
    "    pd_series, gd_series, lambda s: s.apply(str_isupper_udf), number=10\n",
    ")"
   ]
  },
  {
   "cell_type": "code",
   "execution_count": 37,
   "metadata": {
    "tags": []
   },
   "outputs": [
    {
     "data": {
      "text/html": [
       "<div>\n",
       "<style scoped>\n",
       "    .dataframe tbody tr th:only-of-type {\n",
       "        vertical-align: middle;\n",
       "    }\n",
       "\n",
       "    .dataframe tbody tr th {\n",
       "        vertical-align: top;\n",
       "    }\n",
       "\n",
       "    .dataframe thead th {\n",
       "        text-align: right;\n",
       "    }\n",
       "</style>\n",
       "<table border=\"1\" class=\"dataframe\">\n",
       "  <thead>\n",
       "    <tr style=\"text-align: right;\">\n",
       "      <th></th>\n",
       "      <th>cudf speedup vs. pandas</th>\n",
       "    </tr>\n",
       "  </thead>\n",
       "  <tbody>\n",
       "    <tr>\n",
       "      <th>Numeric</th>\n",
       "      <td>20594.774013</td>\n",
       "    </tr>\n",
       "    <tr>\n",
       "      <th>String</th>\n",
       "      <td>1609.251766</td>\n",
       "    </tr>\n",
       "  </tbody>\n",
       "</table>\n",
       "</div>"
      ],
      "text/plain": [
       "         cudf speedup vs. pandas\n",
       "Numeric             20594.774013\n",
       "String               1609.251766"
      ]
     },
     "execution_count": 37,
     "metadata": {},
     "output_type": "execute_result"
    }
   ],
   "source": [
    "performance_df = pd.DataFrame(\n",
    "    {\n",
    "        \"cudf speedup vs. pandas\": [\n",
    "            pandas_int_udf / cudf_int_udf,\n",
    "            pandas_str_udf / cudf_str_udf,\n",
    "        ]\n",
    "    },\n",
    "    index=[\"Numeric\", \"String\"],\n",
    ")\n",
    "performance_df"
   ]
  },
  {
   "cell_type": "markdown",
   "metadata": {},
   "source": [
    "Below is the plot showing performance speedup in case of Numeric UDFs & String UDFs on their consequent runs. In this case the speedup is massive because of no JIT overhead present."
   ]
  },
  {
   "cell_type": "code",
   "execution_count": 38,
   "metadata": {
    "tags": []
   },
   "outputs": [
    {
     "data": {
      "image/png": "[encoded data removed]",
      "text/plain": [
       "<Figure size 640x480 with 1 Axes>"
      ]
     },
     "metadata": {},
     "output_type": "display_data"
    }
   ],
   "source": [
    "ax = performance_df.plot.bar(\n",
    "    color=\"#7400ff\",\n",
    "    ylim=(1, 30000),\n",
    "    rot=0,\n",
    "    xlabel=\"UDF Kind\",\n",
    "    ylabel=\"Speedup factor\",\n",
    ")\n",
    "ax.bar_label(ax.containers[0], fmt=\"%.0f\")\n",
    "plt.show()"
   ]
  },
  {
   "cell_type": "markdown",
   "metadata": {},
   "source": [
    "## UDF Performance in GroupBy"
   ]
  },
  {
   "cell_type": "code",
   "execution_count": 39,
   "metadata": {
    "tags": []
   },
   "outputs": [],
   "source": [
    "num_rows = 50_000_000\n",
    "pdf = pd.DataFrame()\n",
    "pdf[\"key\"] = np.random.randint(0, 2, num_rows)\n",
    "pdf[\"val\"] = np.random.randint(0, 7, num_rows)\n",
    "\n",
    "\n",
    "def custom_formula_udf(df):\n",
    "    df[\"out\"] = df[\"key\"] * df[\"val\"] - 10\n",
    "    return df\n",
    "\n",
    "\n",
    "gdf = cudf.from_pandas(pdf)"
   ]
  },
  {
   "cell_type": "code",
   "execution_count": 40,
   "metadata": {
    "tags": []
   },
   "outputs": [],
   "source": [
    "pandas_udf_groupby, cudf_udf_groupby = timeit_pandas_cudf(\n",
    "    pdf,\n",
    "    gdf,\n",
    "    lambda df: df.groupby([\"key\"], group_keys=False).apply(custom_formula_udf),\n",
    "    number=10,\n",
    ")"
   ]
  },
  {
   "cell_type": "code",
   "execution_count": 41,
   "metadata": {
    "tags": []
   },
   "outputs": [
    {
     "data": {
      "text/html": [
       "<div>\n",
       "<style scoped>\n",
       "    .dataframe tbody tr th:only-of-type {\n",
       "        vertical-align: middle;\n",
       "    }\n",
       "\n",
       "    .dataframe tbody tr th {\n",
       "        vertical-align: top;\n",
       "    }\n",
       "\n",
       "    .dataframe thead th {\n",
       "        text-align: right;\n",
       "    }\n",
       "</style>\n",
       "<table border=\"1\" class=\"dataframe\">\n",
       "  <thead>\n",
       "    <tr style=\"text-align: right;\">\n",
       "      <th></th>\n",
       "      <th>cudf speedup vs. pandas</th>\n",
       "    </tr>\n",
       "  </thead>\n",
       "  <tbody>\n",
       "    <tr>\n",
       "      <th>Grouped UDF</th>\n",
       "      <td>146.587285</td>\n",
       "    </tr>\n",
       "  </tbody>\n",
       "</table>\n",
       "</div>"
      ],
      "text/plain": [
       "             cudf speedup vs. pandas\n",
       "Grouped UDF               146.587285"
      ]
     },
     "execution_count": 41,
     "metadata": {},
     "output_type": "execute_result"
    }
   ],
   "source": [
    "performance_df = pd.DataFrame(\n",
    "    {\"cudf speedup vs. pandas\": [pandas_udf_groupby / cudf_udf_groupby]},\n",
    "    index=[\"Grouped UDF\"],\n",
    ")\n",
    "performance_df"
   ]
  },
  {
   "cell_type": "code",
   "execution_count": 42,
   "metadata": {
    "tags": []
   },
   "outputs": [
    {
     "data": {
      "image/png": "[encoded data removed]",
      "text/plain": [
       "<Figure size 640x480 with 1 Axes>"
      ]
     },
     "metadata": {},
     "output_type": "display_data"
    }
   ],
   "source": [
    "ax = performance_df.plot.bar(\n",
    "    color=\"#7400ff\", ylim=(1, 250), rot=0, ylabel=\"Speedup factor\"\n",
    ")\n",
    "ax.bar_label(ax.containers[0], fmt=\"%.0f\")\n",
    "plt.show()"
   ]
  },
  {
   "cell_type": "markdown",
   "metadata": {},
   "source": [
    "# System Configuration"
   ]
  },
  {
   "cell_type": "markdown",
   "metadata": {},
   "source": [
    "## CPU Configuration"
   ]
  },
  {
   "cell_type": "code",
   "execution_count": 43,
   "metadata": {},
   "outputs": [
    {
     "name": "stdout",
     "output_type": "stream",
     "text": [
      "Architecture:            x86_64\n",
      "  CPU op-mode(s):        32-bit, 64-bit\n",
      "  Address sizes:         45 bits physical, 48 bits virtual\n",
      "  Byte Order:            Little Endian\n",
      "CPU(s):                  32\n",
      "  On-line CPU(s) list:   0-31\n",
      "Vendor ID:               GenuineIntel\n",
      "  Model name:            Intel(R) Xeon(R) Gold 6240R CPU @ 2.40GHz\n",
      "    CPU family:          6\n",
      "    Model:               85\n",
      "    Thread(s) per core:  1\n",
      "    Core(s) per socket:  16\n",
      "    Socket(s):           2\n",
      "    Stepping:            7\n",
      "    BogoMIPS:            4788.74\n",
      "    Flags:               fpu vme de pse tsc msr pae mce cx8 apic sep mtrr pge mc\n",
      "                         a cmov pat pse36 clflush mmx fxsr sse sse2 ss ht syscal\n",
      "                         l nx pdpe1gb rdtscp lm constant_tsc arch_perfmon nopl x\n",
      "                         topology tsc_reliable nonstop_tsc cpuid tsc_known_freq \n",
      "                         pni pclmulqdq ssse3 fma cx16 pcid sse4_1 sse4_2 x2apic \n",
      "                         movbe popcnt tsc_deadline_timer aes xsave avx f16c rdra\n",
      "                         nd hypervisor lahf_lm abm 3dnowprefetch invpcid_single \n",
      "                         ssbd ibrs ibpb stibp ibrs_enhanced fsgsbase tsc_adjust \n",
      "                         bmi1 avx2 smep bmi2 invpcid avx512f avx512dq rdseed adx\n",
      "                          smap clflushopt clwb avx512cd avx512bw avx512vl xsaveo\n",
      "                         pt xsavec xgetbv1 xsaves arat pku ospke avx512_vnni md_\n",
      "                         clear flush_l1d arch_capabilities\n",
      "Virtualization features: \n",
      "  Hypervisor vendor:     VMware\n",
      "  Virtualization type:   full\n",
      "Caches (sum of all):     \n",
      "  L1d:                   1 MiB (32 instances)\n",
      "  L1i:                   1 MiB (32 instances)\n",
      "  L2:                    32 MiB (32 instances)\n",
      "  L3:                    71.5 MiB (2 instances)\n",
      "NUMA:                    \n",
      "  NUMA node(s):          2\n",
      "  NUMA node0 CPU(s):     0-15\n",
      "  NUMA node1 CPU(s):     16-31\n",
      "Vulnerabilities:         \n",
      "  Gather data sampling:  Unknown: Dependent on hypervisor status\n",
      "  Itlb multihit:         KVM: Mitigation: VMX unsupported\n",
      "  L1tf:                  Not affected\n",
      "  Mds:                   Not affected\n",
      "  Meltdown:              Not affected\n",
      "  Mmio stale data:       Vulnerable: Clear CPU buffers attempted, no microcode; \n",
      "                         SMT Host state unknown\n",
      "  Retbleed:              Mitigation; Enhanced IBRS\n",
      "  Spec store bypass:     Mitigation; Speculative Store Bypass disabled via prctl\n",
      "  Spectre v1:            Mitigation; usercopy/swapgs barriers and __user pointer\n",
      "                          sanitization\n",
      "  Spectre v2:            Mitigation; Enhanced IBRS, IBPB conditional, RSB fillin\n",
      "                         g, PBRSB-eIBRS SW sequence\n",
      "  Srbds:                 Not affected\n",
      "  Tsx async abort:       Not affected\n"
     ]
    }
   ],
   "source": [
    "!lscpu"
   ]
  },
  {
   "cell_type": "markdown",
   "metadata": {},
   "source": [
    "## GPU Configuration"
   ]
  },
  {
   "cell_type": "code",
   "execution_count": 44,
   "metadata": {},
   "outputs": [
    {
     "name": "stdout",
     "output_type": "stream",
     "text": [
      "Fri Sep 22 17:07:12 2023       \n",
      "+---------------------------------------------------------------------------------------+\n",
      "| NVIDIA-SMI 535.86.05              Driver Version: 535.86.05    CUDA Version: 12.2     |\n",
      "|-----------------------------------------+----------------------+----------------------+\n",
      "| GPU  Name                 Persistence-M | Bus-Id        Disp.A | Volatile Uncorr. ECC |\n",
      "| Fan  Temp   Perf          Pwr:Usage/Cap |         Memory-Usage | GPU-Util  Compute M. |\n",
      "|                                         |                      |               MIG M. |\n",
      "|=========================================+======================+======================|\n",
      "|   0  NVIDIA A100-PCIE-40GB          Off | 00000000:03:00.0 Off |                    0 |\n",
      "| N/A   31C    P0              56W / 250W |   5029MiB / 40960MiB |      0%      Default |\n",
      "|                                         |                      |             Disabled |\n",
      "+-----------------------------------------+----------------------+----------------------+\n",
      "                                                                                         \n",
      "+---------------------------------------------------------------------------------------+\n",
      "| Processes:                                                                            |\n",
      "|  GPU   GI   CI        PID   Type   Process name                            GPU Memory |\n",
      "|        ID   ID                                                             Usage      |\n",
      "|=======================================================================================|\n",
      "+---------------------------------------------------------------------------------------+\n"
     ]
    }
   ],
   "source": [
    "!nvidia-smi"
   ]
  },
  {
   "cell_type": "code",
   "execution_count": null,
   "metadata": {},
   "outputs": [],
   "source": []
  }
 ],
 "metadata": {
  "kernelspec": {
   "display_name": "Python 3 (ipykernel)",
   "language": "python",
   "name": "python3"
  },
  "language_info": {
   "codemirror_mode": {
    "name": "ipython",
    "version": 3
   },
   "file_extension": ".py",
   "mimetype": "text/x-python",
   "name": "python",
   "nbconvert_exporter": "python",
   "pygments_lexer": "ipython3",
   "version": "3.10.11"
  },
  "vscode": {
   "interpreter": {
    "hash": "b4f3463dcc83b00b9c65791e378b11fabec52613a2a7831cd4af76c548ff6047"
   }
  }
 },
 "nbformat": 4,
 "nbformat_minor": 4
}
